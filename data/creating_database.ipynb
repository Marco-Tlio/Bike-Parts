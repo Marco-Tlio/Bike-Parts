{
 "cells": [
  {
   "cell_type": "code",
   "execution_count": 33,
   "metadata": {},
   "outputs": [],
   "source": [
    "### Creating a new database\n",
    "from os import getcwd\n",
    "from os.path import exists\n",
    "\n",
    "path = getcwd()\n",
    "\n",
    "if not exists(path + 'database_raw.db'):\n",
    "    import pandas as pd\n",
    "    import sqlite3\n",
    "    con = sqlite3.connect('database_raw.db')\n",
    "    cur = con.cursor()\n",
    "    cur.execute('''CREATE TABLE sales (order_number TEXT, \n",
    "                date TEXT,\n",
    "                warehouse TEXT,\n",
    "                client_type TEXT,\n",
    "                product_line TEXT,\n",
    "                quantity INTEGER,\n",
    "                unit_price REAL,\n",
    "                total REAL,\n",
    "                payment REAL,\n",
    "                payment_fee REAL)''')\n",
    "    salespd = pd.read_csv('data_sale.csv')\n",
    "    salespd.to_sql('sales', con, if_exists='append', index = False)\n",
    "\n"
   ]
  },
  {
   "cell_type": "code",
   "execution_count": 41,
   "metadata": {},
   "outputs": [],
   "source": [
    "### Copy the database to main folder\n",
    "from shutil import copyfile \n",
    "    \n",
    "### Using relative path may not work on windows(need to test)\n",
    "path_1 = path+'/../'\n",
    "if not exists(path_1 + 'database_sales.db'):\n",
    "    copyfile(path+'/database_raw.db', path_1+'database_sales.db')\n"
   ]
  }
 ],
 "metadata": {
  "kernelspec": {
   "display_name": "Python 3",
   "language": "python",
   "name": "python3"
  },
  "language_info": {
   "codemirror_mode": {
    "name": "ipython",
    "version": 3
   },
   "file_extension": ".py",
   "mimetype": "text/x-python",
   "name": "python",
   "nbconvert_exporter": "python",
   "pygments_lexer": "ipython3",
   "version": "3.8.10"
  }
 },
 "nbformat": 4,
 "nbformat_minor": 4
}
