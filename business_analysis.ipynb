{
 "cells": [
  {
   "cell_type": "markdown",
   "metadata": {},
   "source": [
    "# Conecting & Configuring the SQLite"
   ]
  },
  {
   "cell_type": "code",
   "execution_count": 1,
   "metadata": {},
   "outputs": [],
   "source": [
    "%load_ext sql\n"
   ]
  },
  {
   "cell_type": "code",
   "execution_count": 2,
   "metadata": {},
   "outputs": [],
   "source": [
    "%sql sqlite:///database_sales.db\n"
   ]
  },
  {
   "cell_type": "markdown",
   "metadata": {},
   "source": [
    "# Exploratory and Test\n"
   ]
  },
  {
   "cell_type": "code",
   "execution_count": 3,
   "metadata": {
    "customType": "sql",
    "dataFrameVariableName": "df2",
    "executionTime": 1964,
    "jupyter": {
     "outputs_hidden": true,
     "source_hidden": false
    },
    "lastSuccessfullyExecutedCode": "-- Raw Data\nSELECT *\nFROM sales\nLIMIT 10;",
    "sqlCellMode": "dataFrame",
    "sqlSource": {
     "integrationId": "89e17161-a224-4a8a-846b-0adc0fe7a4b1",
     "type": "integration"
    }
   },
   "outputs": [
    {
     "data": {
      "text/html": [
       "<span style=\"None\">Running query in &#x27;sqlite:///database_sales.db&#x27;</span>"
      ],
      "text/plain": [
       "Running query in 'sqlite:///database_sales.db'"
      ]
     },
     "metadata": {},
     "output_type": "display_data"
    },
    {
     "data": {
      "text/html": [
       "<table>\n",
       "    <thead>\n",
       "        <tr>\n",
       "            <th>order_number</th>\n",
       "            <th>date</th>\n",
       "            <th>warehouse</th>\n",
       "            <th>client_type</th>\n",
       "            <th>product_line</th>\n",
       "            <th>quantity</th>\n",
       "            <th>unit_price</th>\n",
       "            <th>total</th>\n",
       "            <th>payment</th>\n",
       "            <th>payment_fee</th>\n",
       "        </tr>\n",
       "    </thead>\n",
       "    <tbody>\n",
       "        <tr>\n",
       "            <td>N1</td>\n",
       "            <td>2021-06-01T00:00:00.000Z</td>\n",
       "            <td>North</td>\n",
       "            <td>Retail</td>\n",
       "            <td>Breaking system</td>\n",
       "            <td>9</td>\n",
       "            <td>19.29</td>\n",
       "            <td>173.61</td>\n",
       "            <td>Cash</td>\n",
       "            <td>0.0</td>\n",
       "        </tr>\n",
       "        <tr>\n",
       "            <td>N2</td>\n",
       "            <td>2021-06-01T00:00:00.000Z</td>\n",
       "            <td>North</td>\n",
       "            <td>Retail</td>\n",
       "            <td>Suspension & traction</td>\n",
       "            <td>8</td>\n",
       "            <td>32.93</td>\n",
       "            <td>263.45</td>\n",
       "            <td>Credit card</td>\n",
       "            <td>0.03</td>\n",
       "        </tr>\n",
       "        <tr>\n",
       "            <td>N3</td>\n",
       "            <td>2021-06-01T00:00:00.000Z</td>\n",
       "            <td>North</td>\n",
       "            <td>Wholesale</td>\n",
       "            <td>Frame & body</td>\n",
       "            <td>16</td>\n",
       "            <td>37.84</td>\n",
       "            <td>605.44</td>\n",
       "            <td>Transfer</td>\n",
       "            <td>0.01</td>\n",
       "        </tr>\n",
       "        <tr>\n",
       "            <td>N4</td>\n",
       "            <td>2021-06-01T00:00:00.000Z</td>\n",
       "            <td>North</td>\n",
       "            <td>Wholesale</td>\n",
       "            <td>Suspension & traction</td>\n",
       "            <td>40</td>\n",
       "            <td>37.37</td>\n",
       "            <td>1494.8</td>\n",
       "            <td>Transfer</td>\n",
       "            <td>0.01</td>\n",
       "        </tr>\n",
       "        <tr>\n",
       "            <td>N5</td>\n",
       "            <td>2021-06-01T00:00:00.000Z</td>\n",
       "            <td>North</td>\n",
       "            <td>Retail</td>\n",
       "            <td>Frame & body</td>\n",
       "            <td>6</td>\n",
       "            <td>45.44</td>\n",
       "            <td>272.61</td>\n",
       "            <td>Credit card</td>\n",
       "            <td>0.03</td>\n",
       "        </tr>\n",
       "        <tr>\n",
       "            <td>N6</td>\n",
       "            <td>2021-06-02T00:00:00.000Z</td>\n",
       "            <td>North</td>\n",
       "            <td>Retail</td>\n",
       "            <td>Frame & body</td>\n",
       "            <td>1</td>\n",
       "            <td>40.41</td>\n",
       "            <td>40.41</td>\n",
       "            <td>Credit card</td>\n",
       "            <td>0.03</td>\n",
       "        </tr>\n",
       "        <tr>\n",
       "            <td>N7</td>\n",
       "            <td>2021-06-02T00:00:00.000Z</td>\n",
       "            <td>North</td>\n",
       "            <td>Retail</td>\n",
       "            <td>Miscellaneous</td>\n",
       "            <td>6</td>\n",
       "            <td>20.28</td>\n",
       "            <td>121.66</td>\n",
       "            <td>Credit card</td>\n",
       "            <td>0.03</td>\n",
       "        </tr>\n",
       "        <tr>\n",
       "            <td>N8</td>\n",
       "            <td>2021-06-03T00:00:00.000Z</td>\n",
       "            <td>North</td>\n",
       "            <td>Retail</td>\n",
       "            <td>Electrical system</td>\n",
       "            <td>9</td>\n",
       "            <td>20.5</td>\n",
       "            <td>184.54</td>\n",
       "            <td>Credit card</td>\n",
       "            <td>0.03</td>\n",
       "        </tr>\n",
       "        <tr>\n",
       "            <td>N9</td>\n",
       "            <td>2021-06-03T00:00:00.000Z</td>\n",
       "            <td>North</td>\n",
       "            <td>Retail</td>\n",
       "            <td>Suspension & traction</td>\n",
       "            <td>5</td>\n",
       "            <td>36.18</td>\n",
       "            <td>180.91</td>\n",
       "            <td>Credit card</td>\n",
       "            <td>0.03</td>\n",
       "        </tr>\n",
       "        <tr>\n",
       "            <td>N10</td>\n",
       "            <td>2021-06-03T00:00:00.000Z</td>\n",
       "            <td>North</td>\n",
       "            <td>Retail</td>\n",
       "            <td>Electrical system</td>\n",
       "            <td>5</td>\n",
       "            <td>28.33</td>\n",
       "            <td>141.67</td>\n",
       "            <td>Credit card</td>\n",
       "            <td>0.03</td>\n",
       "        </tr>\n",
       "    </tbody>\n",
       "</table>"
      ],
      "text/plain": [
       "+--------------+--------------------------+-----------+-------------+-----------------------+----------+------------+--------+-------------+-------------+\n",
       "| order_number |           date           | warehouse | client_type |      product_line     | quantity | unit_price | total  |   payment   | payment_fee |\n",
       "+--------------+--------------------------+-----------+-------------+-----------------------+----------+------------+--------+-------------+-------------+\n",
       "|      N1      | 2021-06-01T00:00:00.000Z |   North   |    Retail   |    Breaking system    |    9     |   19.29    | 173.61 |     Cash    |     0.0     |\n",
       "|      N2      | 2021-06-01T00:00:00.000Z |   North   |    Retail   | Suspension & traction |    8     |   32.93    | 263.45 | Credit card |     0.03    |\n",
       "|      N3      | 2021-06-01T00:00:00.000Z |   North   |  Wholesale  |      Frame & body     |    16    |   37.84    | 605.44 |   Transfer  |     0.01    |\n",
       "|      N4      | 2021-06-01T00:00:00.000Z |   North   |  Wholesale  | Suspension & traction |    40    |   37.37    | 1494.8 |   Transfer  |     0.01    |\n",
       "|      N5      | 2021-06-01T00:00:00.000Z |   North   |    Retail   |      Frame & body     |    6     |   45.44    | 272.61 | Credit card |     0.03    |\n",
       "|      N6      | 2021-06-02T00:00:00.000Z |   North   |    Retail   |      Frame & body     |    1     |   40.41    | 40.41  | Credit card |     0.03    |\n",
       "|      N7      | 2021-06-02T00:00:00.000Z |   North   |    Retail   |     Miscellaneous     |    6     |   20.28    | 121.66 | Credit card |     0.03    |\n",
       "|      N8      | 2021-06-03T00:00:00.000Z |   North   |    Retail   |   Electrical system   |    9     |    20.5    | 184.54 | Credit card |     0.03    |\n",
       "|      N9      | 2021-06-03T00:00:00.000Z |   North   |    Retail   | Suspension & traction |    5     |   36.18    | 180.91 | Credit card |     0.03    |\n",
       "|     N10      | 2021-06-03T00:00:00.000Z |   North   |    Retail   |   Electrical system   |    5     |   28.33    | 141.67 | Credit card |     0.03    |\n",
       "+--------------+--------------------------+-----------+-------------+-----------------------+----------+------------+--------+-------------+-------------+"
      ]
     },
     "execution_count": 3,
     "metadata": {},
     "output_type": "execute_result"
    }
   ],
   "source": [
    "%%sql\n",
    "-- Raw Data\n",
    "SELECT *\n",
    "FROM sales\n",
    "LIMIT 10;"
   ]
  },
  {
   "cell_type": "code",
   "execution_count": 4,
   "metadata": {
    "customType": "sql",
    "dataFrameVariableName": "df",
    "executionTime": 1665,
    "jupyter": {
     "outputs_hidden": true,
     "source_hidden": false
    },
    "lastSuccessfullyExecutedCode": "-- Testing to see about my date date pun intended \nSELECT \n\tDISTINCT EXTRACT(month FROM date) AS Month\nFROM sales\n;",
    "sqlCellMode": "dataFrame",
    "sqlSource": {
     "integrationId": "89e17161-a224-4a8a-846b-0adc0fe7a4b1",
     "type": "integration"
    }
   },
   "outputs": [
    {
     "data": {
      "text/html": [
       "<span style=\"None\">Running query in &#x27;sqlite:///database_sales.db&#x27;</span>"
      ],
      "text/plain": [
       "Running query in 'sqlite:///database_sales.db'"
      ]
     },
     "metadata": {},
     "output_type": "display_data"
    },
    {
     "data": {
      "text/html": [
       "<table>\n",
       "    <thead>\n",
       "        <tr>\n",
       "            <th>Month</th>\n",
       "        </tr>\n",
       "    </thead>\n",
       "    <tbody>\n",
       "        <tr>\n",
       "            <td>06</td>\n",
       "        </tr>\n",
       "        <tr>\n",
       "            <td>07</td>\n",
       "        </tr>\n",
       "        <tr>\n",
       "            <td>08</td>\n",
       "        </tr>\n",
       "    </tbody>\n",
       "</table>"
      ],
      "text/plain": [
       "+-------+\n",
       "| Month |\n",
       "+-------+\n",
       "|   06  |\n",
       "|   07  |\n",
       "|   08  |\n",
       "+-------+"
      ]
     },
     "execution_count": 4,
     "metadata": {},
     "output_type": "execute_result"
    }
   ],
   "source": [
    "%%sql\n",
    "-- Testing to see about my date date pun intended \n",
    "\n",
    "SELECT DISTINCT STRFTIME('%m',date) AS Month\n",
    "FROM sales;"
   ]
  },
  {
   "cell_type": "code",
   "execution_count": 5,
   "metadata": {
    "customType": "sql",
    "dataFrameVariableName": "query",
    "executionTime": 1417,
    "initial": false,
    "integrationId": "89e17161-a224-4a8a-846b-0adc0fe7a4b1",
    "jupyter": {
     "outputs_hidden": true,
     "source_hidden": false
    },
    "lastSuccessfullyExecutedCode": "-- Raw data and test net revenue\n\nSELECT product_line, date, warehouse, payment_fee,\n       SUM(total) * (1-payment_fee) AS net_revenue\nFROM sales\nGROUP BY product_line,date, warehouse,payment_fee\nLIMIT 5;",
    "sqlCellMode": "query"
   },
   "outputs": [
    {
     "data": {
      "text/html": [
       "<span style=\"None\">Running query in &#x27;sqlite:///database_sales.db&#x27;</span>"
      ],
      "text/plain": [
       "Running query in 'sqlite:///database_sales.db'"
      ]
     },
     "metadata": {},
     "output_type": "display_data"
    },
    {
     "data": {
      "text/html": [
       "<table>\n",
       "    <thead>\n",
       "        <tr>\n",
       "            <th>product_line</th>\n",
       "            <th>date</th>\n",
       "            <th>warehouse</th>\n",
       "            <th>payment_fee</th>\n",
       "            <th>net_revenue</th>\n",
       "        </tr>\n",
       "    </thead>\n",
       "    <tbody>\n",
       "        <tr>\n",
       "            <td>Breaking system</td>\n",
       "            <td>2021-06-01T00:00:00.000Z</td>\n",
       "            <td>Central</td>\n",
       "            <td>0.03</td>\n",
       "            <td>217.6486</td>\n",
       "        </tr>\n",
       "        <tr>\n",
       "            <td>Breaking system</td>\n",
       "            <td>2021-06-01T00:00:00.000Z</td>\n",
       "            <td>North</td>\n",
       "            <td>0.0</td>\n",
       "            <td>173.61</td>\n",
       "        </tr>\n",
       "        <tr>\n",
       "            <td>Breaking system</td>\n",
       "            <td>2021-06-02T00:00:00.000Z</td>\n",
       "            <td>Central</td>\n",
       "            <td>0.03</td>\n",
       "            <td>131.8424</td>\n",
       "        </tr>\n",
       "        <tr>\n",
       "            <td>Breaking system</td>\n",
       "            <td>2021-06-02T00:00:00.000Z</td>\n",
       "            <td>West</td>\n",
       "            <td>0.03</td>\n",
       "            <td>48.44179999999999</td>\n",
       "        </tr>\n",
       "        <tr>\n",
       "            <td>Breaking system</td>\n",
       "            <td>2021-06-04T00:00:00.000Z</td>\n",
       "            <td>Central</td>\n",
       "            <td>0.03</td>\n",
       "            <td>76.7658</td>\n",
       "        </tr>\n",
       "    </tbody>\n",
       "</table>"
      ],
      "text/plain": [
       "+-----------------+--------------------------+-----------+-------------+-------------------+\n",
       "|   product_line  |           date           | warehouse | payment_fee |    net_revenue    |\n",
       "+-----------------+--------------------------+-----------+-------------+-------------------+\n",
       "| Breaking system | 2021-06-01T00:00:00.000Z |  Central  |     0.03    |      217.6486     |\n",
       "| Breaking system | 2021-06-01T00:00:00.000Z |   North   |     0.0     |       173.61      |\n",
       "| Breaking system | 2021-06-02T00:00:00.000Z |  Central  |     0.03    |      131.8424     |\n",
       "| Breaking system | 2021-06-02T00:00:00.000Z |    West   |     0.03    | 48.44179999999999 |\n",
       "| Breaking system | 2021-06-04T00:00:00.000Z |  Central  |     0.03    |      76.7658      |\n",
       "+-----------------+--------------------------+-----------+-------------+-------------------+"
      ]
     },
     "execution_count": 5,
     "metadata": {},
     "output_type": "execute_result"
    }
   ],
   "source": [
    "%%sql\n",
    "-- Test net revenue\n",
    "\n",
    "SELECT product_line, date, warehouse, payment_fee,\n",
    "       SUM(total) * (1-payment_fee) AS net_revenue\n",
    "FROM sales\n",
    "GROUP BY product_line,date, warehouse,payment_fee\n",
    "LIMIT 5;"
   ]
  },
  {
   "cell_type": "markdown",
   "metadata": {},
   "source": [
    "# Result"
   ]
  },
  {
   "cell_type": "code",
   "execution_count": 6,
   "metadata": {
    "customType": "sql",
    "dataFrameVariableName": "df1",
    "executionTime": 2129,
    "jupyter": {
     "outputs_hidden": false,
     "source_hidden": false
    },
    "lastSuccessfullyExecutedCode": "WITH month_cte AS (\n\tSELECT order_number,\n\t\tEXTRACT('month' FROM date) as month_raw\n\tFROM sales\n\t\n)\nSELECT product_line, \n\tCASE WHEN m.month_raw = 6 THEN 'June'\n\tWHEN m.month_raw = 7 THEN 'July'\n\tWHEN m.month_raw = 8 THEN 'August'\n\tELSE 'ERROR Contact Administrator' END AS month,\n\twarehouse,\n    ROUND(SUM(total * (1 - payment_fee))::numeric,2) AS net_revenue\nFROM sales\nINNER JOIN month_cte AS m\nON sales.order_number = m.order_number\nWHERE client_type = 'Wholesale' \nGROUP BY product_line,month,warehouse\nORDER BY product_line,month,net_revenue DESC;",
    "sqlCellMode": "dataFrame",
    "sqlSource": {
     "integrationId": "89e17161-a224-4a8a-846b-0adc0fe7a4b1",
     "type": "integration"
    }
   },
   "outputs": [
    {
     "data": {
      "text/html": [
       "<span style=\"None\">Running query in &#x27;sqlite:///database_sales.db&#x27;</span>"
      ],
      "text/plain": [
       "Running query in 'sqlite:///database_sales.db'"
      ]
     },
     "metadata": {},
     "output_type": "display_data"
    },
    {
     "data": {
      "text/html": [
       "<table>\n",
       "    <thead>\n",
       "        <tr>\n",
       "            <th>product_line</th>\n",
       "            <th>month</th>\n",
       "            <th>warehouse</th>\n",
       "            <th>net_revenue</th>\n",
       "        </tr>\n",
       "    </thead>\n",
       "    <tbody>\n",
       "        <tr>\n",
       "            <td>Breaking system</td>\n",
       "            <td>August</td>\n",
       "            <td>Central</td>\n",
       "            <td>3009.1</td>\n",
       "        </tr>\n",
       "        <tr>\n",
       "            <td>Breaking system</td>\n",
       "            <td>August</td>\n",
       "            <td>West</td>\n",
       "            <td>2475.71</td>\n",
       "        </tr>\n",
       "        <tr>\n",
       "            <td>Breaking system</td>\n",
       "            <td>August</td>\n",
       "            <td>North</td>\n",
       "            <td>1753.19</td>\n",
       "        </tr>\n",
       "        <tr>\n",
       "            <td>Breaking system</td>\n",
       "            <td>July</td>\n",
       "            <td>Central</td>\n",
       "            <td>3740.94</td>\n",
       "        </tr>\n",
       "        <tr>\n",
       "            <td>Breaking system</td>\n",
       "            <td>July</td>\n",
       "            <td>West</td>\n",
       "            <td>3030.39</td>\n",
       "        </tr>\n",
       "        <tr>\n",
       "            <td>Breaking system</td>\n",
       "            <td>July</td>\n",
       "            <td>North</td>\n",
       "            <td>2568.55</td>\n",
       "        </tr>\n",
       "        <tr>\n",
       "            <td>Breaking system</td>\n",
       "            <td>June</td>\n",
       "            <td>Central</td>\n",
       "            <td>3648.14</td>\n",
       "        </tr>\n",
       "        <tr>\n",
       "            <td>Breaking system</td>\n",
       "            <td>June</td>\n",
       "            <td>North</td>\n",
       "            <td>1472.93</td>\n",
       "        </tr>\n",
       "        <tr>\n",
       "            <td>Breaking system</td>\n",
       "            <td>June</td>\n",
       "            <td>West</td>\n",
       "            <td>1200.64</td>\n",
       "        </tr>\n",
       "        <tr>\n",
       "            <td>Electrical system</td>\n",
       "            <td>August</td>\n",
       "            <td>North</td>\n",
       "            <td>4673.99</td>\n",
       "        </tr>\n",
       "    </tbody>\n",
       "</table>"
      ],
      "text/plain": [
       "+-------------------+--------+-----------+-------------+\n",
       "|    product_line   | month  | warehouse | net_revenue |\n",
       "+-------------------+--------+-----------+-------------+\n",
       "|  Breaking system  | August |  Central  |    3009.1   |\n",
       "|  Breaking system  | August |    West   |   2475.71   |\n",
       "|  Breaking system  | August |   North   |   1753.19   |\n",
       "|  Breaking system  |  July  |  Central  |   3740.94   |\n",
       "|  Breaking system  |  July  |    West   |   3030.39   |\n",
       "|  Breaking system  |  July  |   North   |   2568.55   |\n",
       "|  Breaking system  |  June  |  Central  |   3648.14   |\n",
       "|  Breaking system  |  June  |   North   |   1472.93   |\n",
       "|  Breaking system  |  June  |    West   |   1200.64   |\n",
       "| Electrical system | August |   North   |   4673.99   |\n",
       "+-------------------+--------+-----------+-------------+"
      ]
     },
     "execution_count": 6,
     "metadata": {},
     "output_type": "execute_result"
    }
   ],
   "source": [
    "%%sql \n",
    "\n",
    "WITH month_cte AS (\n",
    "\tSELECT order_number,\n",
    "\t\tSTRFTIME('%m',date) as month_raw\n",
    "\tFROM sales\n",
    "\t\n",
    ")\n",
    "\n",
    "SELECT product_line, \n",
    "\tCASE WHEN m.month_raw = '06' THEN 'June'\n",
    "\tWHEN m.month_raw = '07' THEN 'July'\n",
    "\tWHEN m.month_raw = '08' THEN 'August'\n",
    "\tELSE 'ERROR' END AS month,\n",
    "\twarehouse,\n",
    "    ROUND(CAST(SUM(total * (1 - payment_fee)) AS REAL),2) AS net_revenue\n",
    "FROM sales\n",
    "INNER JOIN month_cte AS m\n",
    "ON sales.order_number = m.order_number\n",
    "WHERE client_type = 'Wholesale' \n",
    "GROUP BY product_line,month,warehouse\n",
    "ORDER BY product_line,month,net_revenue DESC\n",
    "LIMIT 10;"
   ]
  },
  {
   "cell_type": "markdown",
   "metadata": {},
   "source": [
    "\n",
    "# Apendix\n",
    "## Context "
   ]
  },
  {
   "cell_type": "markdown",
   "metadata": {},
   "source": [
    "You're working for a company that sells motorcycle parts, and they've asked with some help in analyzing their sales data!\n",
    "\n",
    "They operate three warehouses in the area, selling both retail and wholesale. They offer a variety of parts and accept credit card, cash, and bank transfer as payment methods. However, each payment type incurs a different fee.\n",
    "\n",
    "The board of directors want to gain a better understanding of wholesale revenue by product line, and how this varies month-to-month and across warehouses. You have been tasked with calculating net revenue for each product line, grouping results by month and warehouse. The results should be filtered so that only `\"Wholesale\"` orders are included.\n",
    "\n",
    "They have provided you with access to their database, which contains the following table called `sales`:\n",
    "\n",
    "| Column | Data type | Description |\n",
    "|--------|-----------|-------------|\n",
    "| `order_number` | `TEXT` | Unique order number. |\n",
    "| `date` | `TEXT` | Date of the order, from June to August 2021. |\n",
    "| `warehouse` | `TEXT` | The warehouse that the order was made from&mdash; `North`, `Central`, or `West`. |\n",
    "| `client_type` | `TEXT` | Whether the order was `Retail` or `Wholesale`. |\n",
    "| `product_line` | `TEXT` | Type of product ordered. |\n",
    "| `quantity` | `INTEGER` | Number of products ordered. | \n",
    "| `unit_price` | `REAL` | Price per product (dollars). |\n",
    "| `total` | `REAL` | Total price of the order (dollars). |\n",
    "| `payment` | `REAL` | Payment method&mdash;`Credit card`, `Transfer`, or `Cash`. |\n",
    "| `payment_fee` | `REAL` | Percentage of `total` charged as a result of the `payment` method. |\n",
    "\n",
    "\n",
    "Your query output should be presented in the following format:\n",
    "\n",
    "| `product_line` | `month` | `warehouse` |\t`net_revenue` |\n",
    "|----------------|-----------|----------------------------|--------------|\n",
    "| product_one | --- | --- | --- |\n",
    "| product_one | --- | --- | --- |\n",
    "| product_one | --- | --- | --- |\n",
    "| product_one | --- | --- | --- |\n",
    "| product_one | --- | --- | --- |\n",
    "| product_one | --- | --- | --- |\n",
    "| product_two | --- | --- | --- |\n",
    "| ... | ... | ... | ... |\n",
    "\n"
   ]
  }
 ],
 "metadata": {
  "celltoolbar": "Raw Cell Format",
  "editor": "DataCamp Workspace",
  "kernelspec": {
   "display_name": "Python 3",
   "language": "python",
   "name": "python3"
  },
  "language_info": {
   "codemirror_mode": {
    "name": "ipython",
    "version": 3
   },
   "file_extension": ".py",
   "mimetype": "text/x-python",
   "name": "python",
   "nbconvert_exporter": "python",
   "pygments_lexer": "ipython3",
   "version": "3.8.10"
  },
  "toc": {
   "base_numbering": 1,
   "nav_menu": {},
   "number_sections": true,
   "sideBar": true,
   "skip_h1_title": true,
   "title_cell": "Table of Contents",
   "title_sidebar": "Contents",
   "toc_cell": false,
   "toc_position": {},
   "toc_section_display": true,
   "toc_window_display": true
  },
  "vscode": {
   "interpreter": {
    "hash": "4c28dce1b92814dac96c640b6c1f64aef8100cfec6687e74ab3caef459440498"
   }
  }
 },
 "nbformat": 4,
 "nbformat_minor": 5
}
